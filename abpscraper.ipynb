{
 "cells": [
  {
   "cell_type": "code",
   "execution_count": 11,
   "metadata": {},
   "outputs": [],
   "source": [
    "\n",
    "import requests\n",
    "from bs4 import BeautifulSoup\n",
    "import re\n",
    "\n",
    "def abplive_agriculture_links():\n",
    "    page = requests.get(\"https://www.abplive.com/agriculture\")\n",
    "    soup = BeautifulSoup(page.content, 'html.parser')\n",
    "    links = []\n",
    "    for link in soup.find_all('a'):\n",
    "        link_href = link.get('href')\n",
    "        if \"www.abplive.com/agriculture/\" in link_href and \"www.abplive.com/agriculture/page\" not in link_href:\n",
    "            links.append(link_href)\n",
    "    return links\n",
    "\n",
    "def extract_article_data(url):\n",
    "    try:\n",
    "        page = requests.get(url)\n",
    "        soup = BeautifulSoup(page.content, 'html.parser')\n",
    "\n",
    "        # Extract article heading\n",
    "        heading_div = soup.find('h1')\n",
    "        if heading_div:\n",
    "            article_title = heading_div.get_text().strip()\n",
    "        else:\n",
    "            article_title = None\n",
    "\n",
    "        # Extract article content\n",
    "        article_div = soup.find('div', class_='abp-story-article')\n",
    "        if article_div:\n",
    "            article_text = ''\n",
    "            for p in article_div.find_all('p'):\n",
    "                article_text += p.get_text() + '\\n\\n'\n",
    "            article_text = re.sub(r'<\\[^>\\]+>', '', article_text)\n",
    "            article_text = article_text.strip()\n",
    "            return {'title': article_title, 'content': article_text}\n",
    "        else:\n",
    "            return {'title': article_title, 'content': \"Unable to find the article content on the page.\"}\n",
    "    except requests.exceptions.RequestException as e:\n",
    "        return {'title': None, 'content': f\"Error: {e}\"}\n",
    "\n",
    "# Get all agriculture links\n",
    "agriculture_links = abplive_agriculture_links()\n",
    "\n",
    "# Iterate through each link and extract article data\n",
    "all_article_data = []\n",
    "for link in agriculture_links:\n",
    "    article_data = extract_article_data(link)\n",
    "    all_article_data.append(article_data)\n",
    "\n",
    "# Print all article data\n",
    "for data in all_article_data:\n",
    "    print(f\"Title: {data['title']}\")\n",
    "    print(f\"Content: {data['content']}\")\n",
    "    print(\"-\" * 30)\n"
   ]
  },
  {
   "cell_type": "code",
   "execution_count": 14,
   "metadata": {},
   "outputs": [],
   "source": [
    "def abplive_agriculture_links(languages_urls):\n",
    "    all_links = []\n",
    "    for language_url in languages_urls:\n",
    "        for language, url in language_url.items():\n",
    "            page = requests.get(url)\n",
    "            soup = BeautifulSoup(page.content, 'html.parser')\n",
    "            links = []\n",
    "            for link in soup.find_all('a'):\n",
    "                link_href = link.get('href')\n",
    "                if url + \"/\" in link_href and \"page\" not in link_href:\n",
    "                    links.append(link_href)\n",
    "            all_links.extend(links)\n",
    "    return all_links\n",
    "\n"
   ]
  },
  {
   "cell_type": "code",
   "execution_count": 24,
   "metadata": {},
   "outputs": [],
   "source": [
    "\n",
    "languages_urls = [\n",
    "                    {'marathi':\"https://marathi.abplive.com/agriculture\"},\n",
    "                #   {'hindi':\"https://www.abplive.com/agriculture\"}\n",
    "                  ]\n",
    "\n",
    "all_links = abplive_agriculture_links(languages_urls)\n"
   ]
  },
  {
   "cell_type": "code",
   "execution_count": 25,
   "metadata": {},
   "outputs": [
    {
     "data": {
      "text/plain": [
       "[]"
      ]
     },
     "execution_count": 25,
     "metadata": {},
     "output_type": "execute_result"
    }
   ],
   "source": [
    "all_links"
   ]
  },
  {
   "cell_type": "code",
   "execution_count": 36,
   "metadata": {},
   "outputs": [
    {
     "name": "stdout",
     "output_type": "stream",
     "text": [
      "Mustard Mandi Price: किसी भी चीज में महंगाई हो इसका सीधा असर मिडिल क्लास की जेब पर पड़ता है. बात की जाए तो मंडियो में कई चीजों के दाम बड़े हैं. जिससे आम आदमी की जेब ढीली हो गई है. पिछले कुछ समय तक प्याज ने आम आदमी को रुला के रखा था. इसके चलते सरकार को निर्यात पर बैन लगाना पड़ा था.\n",
      "\n",
      "फिलहाल बात की जाए तो सरसों के दाम. इसके साथ ही चना में भी काफी उछाल देखने को मिला है. ऐसा  नहीं है कि सभी चीजों में उछाल आया है. जहां चना और सरसों के दाम बढ़े हैं. तो वहीं कुछ चीजों के दाम कम भी हुए है. चलिए जानते हैं. किन चीजों के दामों में आई है कमी. क्या है फिलहाल सरसों की स्थिति. \n",
      "\n",
      "सरसों की खेती करने वाले किसानों को चर्चा से काफी लाभ हो रहा है. कृषि उपज मंडियों में पिछले सात आठ दिनों से सरसों की कीमत में काफी बढ़ोतरी देखने को मिली है. सरसों की कीमतों की बात की जाए. पिछले करीब एक हफ्ते में इनमें तगड़ा उछाल आया है. कृषि उपज मंडियों में सरसों के दाम तकरीबन 600 रुपये से 700 रुपये प्रति क्विंटल तक बढ़े हैं. तेल मिलों द्वारा सरसों की बढ़ती तेज डिमांड के चलते सरसों के भाव बढ़ रहे हैं. जानकारों की मानें तो अभी  कीमतों में और उछाल आने का अुनमान है. \n",
      "\n",
      "वहीं बात की जाए चने की तो इसकी कीमतों में भी उछाल आया है. दरअसल महाराष्ट्र, कर्नाटक, मध्य प्रदेश और आंध्र प्रदेश जैसे राज्यों में इस साल चने की फसल में काफी कमी आई है. इसके चलते चने के भाव में उछाल आया है. मई के शुरुआत में चना 6300 रुपये प्रति क्विंटल बिक रहा था. लेकिन फिलहाल इसकी बात की जाए तो यह 6300 रुपये प्रति क्विंटल बिक रहा है. अभी इसकी कीमत और बढ़ सकती है. \n",
      "\n",
      "एक और जहां किसानों को सरसों और चने की कीमतों में बढ़ोतरी देखने को मिल रही है. तो वहीं दूसरी और मूंग दाल के भाव में गिरावट दर्ज की गई है. मूंग दाल के भाव जहां 8050 रुपये प्रति क्विंटल से लेकर 8150 रुपये प्रति क्विंटल थे. भारी गिरावट के बाद अब 7000 रुपये प्रति क्विंटल से 7500 रुपये प्रति क्विंटल तक आ चुके हैं. विशेषज्ञों की मानें तो मूंग के भाव अभी थोड़े और गिर सकते हैं. \n",
      "\n",
      "यह भी पढ़ें: PM Kisan Yojana: पीएम किसान योजना की किस्त आने से पहले निपटा लें ये तीन काम, खाते में आ जाएंगे दो हजार रुपये\n",
      "\n",
      " \n",
      "\n",
      "\n"
     ]
    }
   ],
   "source": [
    "import re\n",
    "\n",
    "def extract_article_data(url):\n",
    "    try:\n",
    "        page = requests.get(url)\n",
    "        soup = BeautifulSoup(page.content, 'html.parser')\n",
    "\n",
    "        # Extract article title\n",
    "        article_title_div = soup.find('h1')\n",
    "        if article_title_div:\n",
    "            article_title = article_title_div.get_text().strip()\n",
    "        else:\n",
    "            article_title = None\n",
    "\n",
    "        # Extract article content\n",
    "        article_div = soup.find('div', class_='h')\n",
    "        if article_div:\n",
    "            article_text = ''\n",
    "            for p in article_div.find_all('p'):\n",
    "                article_text += p.get_text() + '\\n\\n'\n",
    "            article_text = re.sub(r'<[^>]+>', '', article_text)\n",
    "            article_text = article_text.strip()\n",
    "\n",
    "            return {'title': article_title, 'content': article_text}\n",
    "        else:\n",
    "            return {'title': article_title, 'content': \"Unable to find the article content on the page.\"}\n",
    "\n",
    "    except requests.exceptions.RequestException as e:\n",
    "        return {'title': None, 'content': f\"Error: {e}\"}"
   ]
  },
  {
   "cell_type": "code",
   "execution_count": 4,
   "metadata": {},
   "outputs": [],
   "source": [
    "#get all the link elements\n",
    "\n",
    "\n",
    "# for link in links:\n",
    "#     print(link.get('href'))\n",
    "#get all the link elements"
   ]
  },
  {
   "cell_type": "code",
   "execution_count": 19,
   "metadata": {},
   "outputs": [
    {
     "name": "stdout",
     "output_type": "stream",
     "text": [
      "https://www.abplive.com/agriculture/gram-and-mustard-prices-are-continuously-increasing-but-these-things-prices-are-going-down-know-the-details-2699325\n",
      "https://www.abplive.com/agriculture/what-will-be-the-wheat-production-in-india-this-year-will-price-goes-up-this-year-this-time-know-the-details-2699239\n",
      "https://www.abplive.com/agriculture/smallest-cow-punganur-breed-of-cow-is-the-smallest-cow-in-the-world-2698796\n",
      "https://www.abplive.com/agriculture/parali-benefits-there-are-many-disadvantages-of-burning-stubble-so-we-will-tell-you-ways-to-earn-money-from-stubble-2698597\n",
      "https://www.abplive.com/agriculture/agriculture-golden-bean-farming-farmers-earn-huge-profits-2695886\n",
      "https://www.abplive.com/agriculture/pm-kisan-mandhan-yojana-know-which-farmers-get-benefits-how-to-apply-for-this-pension-scheme-2695992\n",
      "https://www.abplive.com/agriculture/agriculture-almond-cultivation-farming-process-know-how-much-cost-required-income-for-farmers-2695804\n",
      "https://www.abplive.com/agriculture/pm-fasal-bima-yojana-agriculture-premium-for-crop-insurance-know-the-process-2695277\n",
      "https://www.abplive.com/agriculture/mustard-quantity-and-price-in-market-may-increase-in-few-month-2695228\n",
      "https://www.abplive.com/agriculture/you-can-earn-lakhs-rupees-by-started-business-of-beekeeping-like-this-2694017\n",
      "https://www.abplive.com/agriculture/rajasthan-two-young-entrepreneurs-developed-new-biopolymer-technique-for-farming-gained-place-in-forbes-30-under-30-asia-list-2694460\n",
      "https://www.abplive.com/agriculture/these-vegetables-can-be-grown-at-home-now-planted-in-may-you-will-get-good-yield-in-few-months-2693708\n",
      "https://www.abplive.com/agriculture/know-which-plants-which-provide-oxygen-even-at-night-plant-them-in-the-room-for-good-health-2693675\n",
      "https://www.abplive.com/agriculture/rose-farming-tips-if-you-cultivate-rose-in-this-season-you-will-got-maximum-benefits-from-its-cultivation-2693622\n",
      "https://www.abplive.com/agriculture/mini-tractor-for-farming-know-about-price-brand-and-subsidy-chota-tractor-2691639\n"
     ]
    }
   ],
   "source": [
    "# for link in links:\n",
    "#     link = link.get('href')\n",
    "#     if \"www.abplive.com/agriculture/\" in link and \"www.abplive.com/agriculture/page\" not in link:\n",
    "#         print(link)\n"
   ]
  }
 ],
 "metadata": {
  "kernelspec": {
   "display_name": "Python 3",
   "language": "python",
   "name": "python3"
  },
  "language_info": {
   "codemirror_mode": {
    "name": "ipython",
    "version": 3
   },
   "file_extension": ".py",
   "mimetype": "text/x-python",
   "name": "python",
   "nbconvert_exporter": "python",
   "pygments_lexer": "ipython3",
   "version": "3.12.1"
  }
 },
 "nbformat": 4,
 "nbformat_minor": 2
}
